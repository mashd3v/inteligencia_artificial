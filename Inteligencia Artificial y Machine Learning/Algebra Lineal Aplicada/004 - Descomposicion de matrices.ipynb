{
 "cells": [
  {
   "cell_type": "code",
   "execution_count": 1,
   "id": "constitutional-virgin",
   "metadata": {},
   "outputs": [],
   "source": [
    "%matplotlib inline\n",
    "\n",
    "import numpy as np\n",
    "import matplotlib.pyplot as plt"
   ]
  },
  {
   "cell_type": "code",
   "execution_count": 2,
   "id": "current-madonna",
   "metadata": {},
   "outputs": [
    {
     "name": "stdout",
     "output_type": "stream",
     "text": [
      "[[3 2]\n",
      " [4 1]]\n"
     ]
    }
   ],
   "source": [
    "A = np.array([[3,2], [4,1]])\n",
    "print(A)"
   ]
  },
  {
   "cell_type": "code",
   "execution_count": 3,
   "id": "controlled-script",
   "metadata": {},
   "outputs": [
    {
     "name": "stdout",
     "output_type": "stream",
     "text": [
      "[ 5. -1.]\n",
      "[[ 0.70710678 -0.4472136 ]\n",
      " [ 0.70710678  0.89442719]]\n"
     ]
    }
   ],
   "source": [
    "autovalores, autovectores = np.linalg.eig(A)\n",
    "print(autovalores)\n",
    "print(autovectores)"
   ]
  },
  {
   "cell_type": "code",
   "execution_count": 5,
   "id": "characteristic-convert",
   "metadata": {},
   "outputs": [
    {
     "name": "stdout",
     "output_type": "stream",
     "text": [
      "[[3. 2.]\n",
      " [4. 1.]]\n"
     ]
    }
   ],
   "source": [
    "A_calc = autovectores.dot(np.diag(autovalores)).dot(np.linalg.inv(autovectores))\n",
    "print(A_calc)"
   ]
  },
  {
   "cell_type": "code",
   "execution_count": 6,
   "id": "universal-expression",
   "metadata": {},
   "outputs": [
    {
     "name": "stdout",
     "output_type": "stream",
     "text": [
      "[[3 2]\n",
      " [2 3]]\n"
     ]
    }
   ],
   "source": [
    "A = np.array([[3,2], [2,3]])\n",
    "print(A)"
   ]
  },
  {
   "cell_type": "code",
   "execution_count": 7,
   "id": "numerical-heating",
   "metadata": {},
   "outputs": [
    {
     "name": "stdout",
     "output_type": "stream",
     "text": [
      "[[ True  True]\n",
      " [ True  True]]\n"
     ]
    }
   ],
   "source": [
    "print(A == A.T)"
   ]
  },
  {
   "cell_type": "code",
   "execution_count": 8,
   "id": "effective-convention",
   "metadata": {},
   "outputs": [
    {
     "name": "stdout",
     "output_type": "stream",
     "text": [
      "[5. 1.]\n",
      "[[ 0.70710678 -0.70710678]\n",
      " [ 0.70710678  0.70710678]]\n"
     ]
    }
   ],
   "source": [
    "autovalores, autovectores = np.linalg.eig(A)\n",
    "print(autovalores)\n",
    "print(autovectores)"
   ]
  },
  {
   "cell_type": "code",
   "execution_count": 9,
   "id": "sacred-movement",
   "metadata": {},
   "outputs": [
    {
     "name": "stdout",
     "output_type": "stream",
     "text": [
      "[[3. 2.]\n",
      " [2. 3.]]\n"
     ]
    }
   ],
   "source": [
    "A_calc = autovectores.dot(np.diag(autovalores)).dot(autovectores.T)\n",
    "print(A_calc)"
   ]
  },
  {
   "cell_type": "code",
   "execution_count": null,
   "id": "satellite-nowhere",
   "metadata": {},
   "outputs": [],
   "source": []
  }
 ],
 "metadata": {
  "kernelspec": {
   "display_name": "Python 3",
   "language": "python",
   "name": "python3"
  },
  "language_info": {
   "codemirror_mode": {
    "name": "ipython",
    "version": 3
   },
   "file_extension": ".py",
   "mimetype": "text/x-python",
   "name": "python",
   "nbconvert_exporter": "python",
   "pygments_lexer": "ipython3",
   "version": "3.7.9"
  }
 },
 "nbformat": 4,
 "nbformat_minor": 5
}
