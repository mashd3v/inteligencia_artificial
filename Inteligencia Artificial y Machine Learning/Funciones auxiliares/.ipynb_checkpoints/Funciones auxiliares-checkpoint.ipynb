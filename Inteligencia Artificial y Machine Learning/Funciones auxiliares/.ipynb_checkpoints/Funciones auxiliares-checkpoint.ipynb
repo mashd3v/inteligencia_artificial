{
 "cells": [
  {
   "cell_type": "code",
   "execution_count": 1,
   "id": "wired-consolidation",
   "metadata": {},
   "outputs": [],
   "source": [
    "def graficarVectores(vectores, colors, alpha=1):\n",
    "    plt.figure()\n",
    "    plt.axvline(x=0, color=\"grey\", zorder=0)\n",
    "    plt.axhline(y=0, color=\"grey\", zorder=0)\n",
    "    \n",
    "    for i in range(len(vectores)):\n",
    "        x = np.concatenate([[0,0], vectores[i]])\n",
    "        plt.quiver([x[0]],\n",
    "                  [x[1]],\n",
    "                  [x[2]],\n",
    "                  [x[3]],\n",
    "                  angles='xy', scale_units='xy', scale=1,\n",
    "                  color=colors[i], alpha=alpha)"
   ]
  },
  {
   "cell_type": "code",
   "execution_count": 3,
   "id": "spoken-differential",
   "metadata": {},
   "outputs": [],
   "source": [
    "def graficarMatriz(matriz, vectorColor=['red', 'blue']):\n",
    "\n",
    "    #Circulo unitario\n",
    "    x = np.linspace(-1, 1, 100000)\n",
    "    y = np.sqrt(1-(x**2))\n",
    "    \n",
    "    #Circulo transformado\n",
    "    x1 = matriz[0,0]*x + matriz[0,1]*y\n",
    "    y1 = matriz[1,0]*x + matriz[1,1]*y\n",
    "    x1_negativo = matriz[0,0]*x - matriz[0,1]*y\n",
    "    y1_negativo = matriz[1,0]*x - matriz[1,1]*y\n",
    "    \n",
    "    #Vectores\n",
    "    u1 = [matriz[0,0], matriz[1,0]]\n",
    "    v1 = [matriz[0,1], matriz[1,1]]\n",
    "    \n",
    "    graficarVectores([u1, v1], [vectorColor[0], vectorColor[1]])\n",
    "    plt.plot(x1, y1, 'green', alpha= 0.7)\n",
    "    plt.plot(x1_negativo, y1_negativo, 'green', alpha= 0.7)"
   ]
  },
  {
   "cell_type": "code",
   "execution_count": null,
   "id": "united-plastic",
   "metadata": {},
   "outputs": [],
   "source": []
  }
 ],
 "metadata": {
  "kernelspec": {
   "display_name": "Python 3",
   "language": "python",
   "name": "python3"
  },
  "language_info": {
   "codemirror_mode": {
    "name": "ipython",
    "version": 3
   },
   "file_extension": ".py",
   "mimetype": "text/x-python",
   "name": "python",
   "nbconvert_exporter": "python",
   "pygments_lexer": "ipython3",
   "version": "3.7.9"
  }
 },
 "nbformat": 4,
 "nbformat_minor": 5
}
