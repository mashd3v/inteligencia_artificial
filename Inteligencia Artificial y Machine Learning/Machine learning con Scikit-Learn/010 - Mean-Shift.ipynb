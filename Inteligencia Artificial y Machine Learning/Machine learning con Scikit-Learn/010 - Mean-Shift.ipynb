{
 "metadata": {
  "language_info": {
   "codemirror_mode": {
    "name": "ipython",
    "version": 3
   },
   "file_extension": ".py",
   "mimetype": "text/x-python",
   "name": "python",
   "nbconvert_exporter": "python",
   "pygments_lexer": "ipython3",
   "version": "3.7.3-final"
  },
  "orig_nbformat": 2,
  "kernelspec": {
   "name": "python3",
   "display_name": "Python 3.7.3 64-bit (conda)",
   "metadata": {
    "interpreter": {
     "hash": "b59879d5e3f5a8a2f2faee07a70ee8a2e6ae4b34825721b6f60a87942e756af3"
    }
   }
  }
 },
 "nbformat": 4,
 "nbformat_minor": 2,
 "cells": [
  {
   "cell_type": "code",
   "execution_count": 1,
   "metadata": {},
   "outputs": [],
   "source": [
    "# Importar librerias\n",
    "import pandas as pd \n",
    "\n",
    "from sklearn.cluster import MeanShift"
   ]
  },
  {
   "cell_type": "code",
   "execution_count": 2,
   "metadata": {},
   "outputs": [
    {
     "output_type": "execute_result",
     "data": {
      "text/plain": [
       "  competitorname  chocolate  fruity  caramel  peanutyalmondy  nougat  \\\n",
       "0      100 Grand          1       0        1               0       0   \n",
       "1   3 Musketeers          1       0        0               0       1   \n",
       "2       One dime          0       0        0               0       0   \n",
       "3    One quarter          0       0        0               0       0   \n",
       "4      Air Heads          0       1        0               0       0   \n",
       "\n",
       "   crispedricewafer  hard  bar  pluribus  sugarpercent  pricepercent  \\\n",
       "0                 1     0    1         0         0.732         0.860   \n",
       "1                 0     0    1         0         0.604         0.511   \n",
       "2                 0     0    0         0         0.011         0.116   \n",
       "3                 0     0    0         0         0.011         0.511   \n",
       "4                 0     0    0         0         0.906         0.511   \n",
       "\n",
       "   winpercent  \n",
       "0   66.971725  \n",
       "1   67.602936  \n",
       "2   32.261086  \n",
       "3   46.116505  \n",
       "4   52.341465  "
      ],
      "text/html": "<div>\n<style scoped>\n    .dataframe tbody tr th:only-of-type {\n        vertical-align: middle;\n    }\n\n    .dataframe tbody tr th {\n        vertical-align: top;\n    }\n\n    .dataframe thead th {\n        text-align: right;\n    }\n</style>\n<table border=\"1\" class=\"dataframe\">\n  <thead>\n    <tr style=\"text-align: right;\">\n      <th></th>\n      <th>competitorname</th>\n      <th>chocolate</th>\n      <th>fruity</th>\n      <th>caramel</th>\n      <th>peanutyalmondy</th>\n      <th>nougat</th>\n      <th>crispedricewafer</th>\n      <th>hard</th>\n      <th>bar</th>\n      <th>pluribus</th>\n      <th>sugarpercent</th>\n      <th>pricepercent</th>\n      <th>winpercent</th>\n    </tr>\n  </thead>\n  <tbody>\n    <tr>\n      <th>0</th>\n      <td>100 Grand</td>\n      <td>1</td>\n      <td>0</td>\n      <td>1</td>\n      <td>0</td>\n      <td>0</td>\n      <td>1</td>\n      <td>0</td>\n      <td>1</td>\n      <td>0</td>\n      <td>0.732</td>\n      <td>0.860</td>\n      <td>66.971725</td>\n    </tr>\n    <tr>\n      <th>1</th>\n      <td>3 Musketeers</td>\n      <td>1</td>\n      <td>0</td>\n      <td>0</td>\n      <td>0</td>\n      <td>1</td>\n      <td>0</td>\n      <td>0</td>\n      <td>1</td>\n      <td>0</td>\n      <td>0.604</td>\n      <td>0.511</td>\n      <td>67.602936</td>\n    </tr>\n    <tr>\n      <th>2</th>\n      <td>One dime</td>\n      <td>0</td>\n      <td>0</td>\n      <td>0</td>\n      <td>0</td>\n      <td>0</td>\n      <td>0</td>\n      <td>0</td>\n      <td>0</td>\n      <td>0</td>\n      <td>0.011</td>\n      <td>0.116</td>\n      <td>32.261086</td>\n    </tr>\n    <tr>\n      <th>3</th>\n      <td>One quarter</td>\n      <td>0</td>\n      <td>0</td>\n      <td>0</td>\n      <td>0</td>\n      <td>0</td>\n      <td>0</td>\n      <td>0</td>\n      <td>0</td>\n      <td>0</td>\n      <td>0.011</td>\n      <td>0.511</td>\n      <td>46.116505</td>\n    </tr>\n    <tr>\n      <th>4</th>\n      <td>Air Heads</td>\n      <td>0</td>\n      <td>1</td>\n      <td>0</td>\n      <td>0</td>\n      <td>0</td>\n      <td>0</td>\n      <td>0</td>\n      <td>0</td>\n      <td>0</td>\n      <td>0.906</td>\n      <td>0.511</td>\n      <td>52.341465</td>\n    </tr>\n  </tbody>\n</table>\n</div>"
     },
     "metadata": {},
     "execution_count": 2
    }
   ],
   "source": [
    "# Cargar nuestro dataset\n",
    "dataset = pd.read_csv('./documents/candy.csv')\n",
    "dataset.head()"
   ]
  },
  {
   "cell_type": "code",
   "execution_count": 3,
   "metadata": {},
   "outputs": [],
   "source": [
    "# Crear nuestras features, solo de X, ya que ocuparemos clustering\n",
    "X = dataset.drop('competitorname', axis=1)"
   ]
  },
  {
   "cell_type": "code",
   "execution_count": 5,
   "metadata": {},
   "outputs": [
    {
     "output_type": "stream",
     "name": "stdout",
     "text": [
      "Total de clusters creados:  3\n"
     ]
    }
   ],
   "source": [
    "# Creando nuestro modelo de meanshift\n",
    "meanshift = MeanShift().fit(X)\n",
    "\n",
    "print('Total de clusters creados: ', max(meanshift.labels_) + 1)"
   ]
  },
  {
   "cell_type": "code",
   "execution_count": 6,
   "metadata": {},
   "outputs": [
    {
     "output_type": "stream",
     "name": "stdout",
     "text": [
      "Ubicacion de los centros:  [[2.25000000e-01 5.75000000e-01 1.00000000e-01 2.50000000e-02\n  5.00000000e-02 2.50000000e-02 3.00000000e-01 1.00000000e-01\n  5.50000000e-01 4.57599993e-01 3.67824996e-01 4.10442122e+01]\n [4.68750000e-01 5.00000000e-01 1.25000000e-01 1.56250000e-01\n  9.37500000e-02 6.25000000e-02 1.25000000e-01 3.12500000e-01\n  5.31250000e-01 4.57281243e-01 4.67874998e-01 5.21138597e+01]\n [8.26086957e-01 1.73913043e-01 3.04347826e-01 3.04347826e-01\n  1.73913043e-01 1.73913043e-01 0.00000000e+00 5.21739130e-01\n  4.34782609e-01 5.81391293e-01 6.38086963e-01 6.47120799e+01]]\n"
     ]
    }
   ],
   "source": [
    "print('Ubicacion de los centros: ', meanshift.cluster_centers_)"
   ]
  },
  {
   "cell_type": "code",
   "execution_count": 7,
   "metadata": {},
   "outputs": [
    {
     "output_type": "execute_result",
     "data": {
      "text/plain": [
       "  competitorname  chocolate  fruity  caramel  peanutyalmondy  nougat  \\\n",
       "0      100 Grand          1       0        1               0       0   \n",
       "1   3 Musketeers          1       0        0               0       1   \n",
       "2       One dime          0       0        0               0       0   \n",
       "3    One quarter          0       0        0               0       0   \n",
       "4      Air Heads          0       1        0               0       0   \n",
       "\n",
       "   crispedricewafer  hard  bar  pluribus  sugarpercent  pricepercent  \\\n",
       "0                 1     0    1         0         0.732         0.860   \n",
       "1                 0     0    1         0         0.604         0.511   \n",
       "2                 0     0    0         0         0.011         0.116   \n",
       "3                 0     0    0         0         0.011         0.511   \n",
       "4                 0     0    0         0         0.906         0.511   \n",
       "\n",
       "   winpercent  meanshift  \n",
       "0   66.971725          2  \n",
       "1   67.602936          2  \n",
       "2   32.261086          0  \n",
       "3   46.116505          0  \n",
       "4   52.341465          1  "
      ],
      "text/html": "<div>\n<style scoped>\n    .dataframe tbody tr th:only-of-type {\n        vertical-align: middle;\n    }\n\n    .dataframe tbody tr th {\n        vertical-align: top;\n    }\n\n    .dataframe thead th {\n        text-align: right;\n    }\n</style>\n<table border=\"1\" class=\"dataframe\">\n  <thead>\n    <tr style=\"text-align: right;\">\n      <th></th>\n      <th>competitorname</th>\n      <th>chocolate</th>\n      <th>fruity</th>\n      <th>caramel</th>\n      <th>peanutyalmondy</th>\n      <th>nougat</th>\n      <th>crispedricewafer</th>\n      <th>hard</th>\n      <th>bar</th>\n      <th>pluribus</th>\n      <th>sugarpercent</th>\n      <th>pricepercent</th>\n      <th>winpercent</th>\n      <th>meanshift</th>\n    </tr>\n  </thead>\n  <tbody>\n    <tr>\n      <th>0</th>\n      <td>100 Grand</td>\n      <td>1</td>\n      <td>0</td>\n      <td>1</td>\n      <td>0</td>\n      <td>0</td>\n      <td>1</td>\n      <td>0</td>\n      <td>1</td>\n      <td>0</td>\n      <td>0.732</td>\n      <td>0.860</td>\n      <td>66.971725</td>\n      <td>2</td>\n    </tr>\n    <tr>\n      <th>1</th>\n      <td>3 Musketeers</td>\n      <td>1</td>\n      <td>0</td>\n      <td>0</td>\n      <td>0</td>\n      <td>1</td>\n      <td>0</td>\n      <td>0</td>\n      <td>1</td>\n      <td>0</td>\n      <td>0.604</td>\n      <td>0.511</td>\n      <td>67.602936</td>\n      <td>2</td>\n    </tr>\n    <tr>\n      <th>2</th>\n      <td>One dime</td>\n      <td>0</td>\n      <td>0</td>\n      <td>0</td>\n      <td>0</td>\n      <td>0</td>\n      <td>0</td>\n      <td>0</td>\n      <td>0</td>\n      <td>0</td>\n      <td>0.011</td>\n      <td>0.116</td>\n      <td>32.261086</td>\n      <td>0</td>\n    </tr>\n    <tr>\n      <th>3</th>\n      <td>One quarter</td>\n      <td>0</td>\n      <td>0</td>\n      <td>0</td>\n      <td>0</td>\n      <td>0</td>\n      <td>0</td>\n      <td>0</td>\n      <td>0</td>\n      <td>0</td>\n      <td>0.011</td>\n      <td>0.511</td>\n      <td>46.116505</td>\n      <td>0</td>\n    </tr>\n    <tr>\n      <th>4</th>\n      <td>Air Heads</td>\n      <td>0</td>\n      <td>1</td>\n      <td>0</td>\n      <td>0</td>\n      <td>0</td>\n      <td>0</td>\n      <td>0</td>\n      <td>0</td>\n      <td>0</td>\n      <td>0.906</td>\n      <td>0.511</td>\n      <td>52.341465</td>\n      <td>1</td>\n    </tr>\n  </tbody>\n</table>\n</div>"
     },
     "metadata": {},
     "execution_count": 7
    }
   ],
   "source": [
    "# Agregar una columna en nuestro dataset con los datos que nos arrojo meanshift\n",
    "dataset['meanshift'] = meanshift.labels_\n",
    "dataset.head()"
   ]
  },
  {
   "cell_type": "code",
   "execution_count": null,
   "metadata": {},
   "outputs": [],
   "source": []
  }
 ]
}