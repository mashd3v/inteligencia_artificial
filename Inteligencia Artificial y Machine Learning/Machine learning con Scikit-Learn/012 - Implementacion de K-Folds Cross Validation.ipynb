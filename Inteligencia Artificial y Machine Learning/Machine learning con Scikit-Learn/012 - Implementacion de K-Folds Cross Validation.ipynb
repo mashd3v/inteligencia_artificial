{
 "metadata": {
  "language_info": {
   "codemirror_mode": {
    "name": "ipython",
    "version": 3
   },
   "file_extension": ".py",
   "mimetype": "text/x-python",
   "name": "python",
   "nbconvert_exporter": "python",
   "pygments_lexer": "ipython3",
   "version": "3.7.3-final"
  },
  "orig_nbformat": 2,
  "kernelspec": {
   "name": "python3",
   "display_name": "Python 3.7.3 64-bit (conda)",
   "metadata": {
    "interpreter": {
     "hash": "b59879d5e3f5a8a2f2faee07a70ee8a2e6ae4b34825721b6f60a87942e756af3"
    }
   }
  }
 },
 "nbformat": 4,
 "nbformat_minor": 2,
 "cells": [
  {
   "cell_type": "code",
   "execution_count": 1,
   "metadata": {},
   "outputs": [],
   "source": [
    "# Importando librerias\n",
    "import pandas as pd \n",
    "import numpy as np\n",
    "\n",
    "from sklearn.tree import DecisionTreeRegressor\n",
    "\n",
    "from sklearn.model_selection import (cross_val_score, KFold)"
   ]
  },
  {
   "cell_type": "code",
   "execution_count": 2,
   "metadata": {},
   "outputs": [],
   "source": [
    "# Cargar el dataset\n",
    "dataset = pd.read_csv('./documents/felicidad.csv')"
   ]
  },
  {
   "cell_type": "code",
   "execution_count": 3,
   "metadata": {},
   "outputs": [],
   "source": [
    "# Crear nuestras features\n",
    "X = dataset.drop(['country', 'score'], axis=1)\n",
    "Y = dataset['score']"
   ]
  },
  {
   "cell_type": "code",
   "execution_count": 7,
   "metadata": {},
   "outputs": [
    {
     "output_type": "stream",
     "name": "stdout",
     "text": [
      "0.5820040169112408\n"
     ]
    }
   ],
   "source": [
    "# Crear modelo y score\n",
    "model = DecisionTreeRegressor()\n",
    "score = cross_val_score(model, X, Y, scoring='neg_mean_squared_error', cv=3)\n",
    "print(np.abs(np.mean(score)))"
   ]
  },
  {
   "source": [
    "El score es un arreglo de errores negativos medios cuadrados (es decir, cuanto mas pequeño en valor absoluto, mejor se ajusta el modelo a los datos) como salida del coss_val_score, este resultado se da ya que el modelo fue separado cv veces (en este caso 5 al principio y luego 3) en set de datos de entrenamiento y prueba, en lo que se puede notar que particiones fueron mas satisfactorias.\n",
    "\n",
    "Ahora al aplicar el promedio y el valor absoluto, puedes observar el error medio cuadrado promedio calculado a partir de las salidas score que evalúan la adaptación promedio del modelo a los datos."
   ],
   "cell_type": "markdown",
   "metadata": {}
  },
  {
   "cell_type": "code",
   "execution_count": 8,
   "metadata": {},
   "outputs": [
    {
     "output_type": "stream",
     "name": "stdout",
     "text": [
      "[  0   2   3   4   5   6   7   8  10  12  13  16  18  21  23  24  27  28\n  32  33  34  35  36  38  39  41  42  43  44  45  46  47  50  52  54  55\n  56  60  62  63  64  65  66  67  68  69  70  71  73  74  75  76  80  82\n  83  84  85  86  87  89  90  94  95  96  97  99 100 101 102 103 104 105\n 107 108 112 115 116 118 119 120 121 122 123 124 125 128 129 130 131 133\n 135 136 137 138 139 144 145 147 148 150 151 152 154]\n[  1   9  11  14  15  17  19  20  22  25  26  29  30  31  37  40  48  49\n  51  53  57  58  59  61  72  77  78  79  81  88  91  92  93  98 106 109\n 110 111 113 114 117 126 127 132 134 140 141 142 143 146 149 153]\n[  0   1   3   4   5   7   9  10  11  12  14  15  17  18  19  20  22  25\n  26  27  28  29  30  31  33  35  37  40  41  42  45  46  47  48  49  51\n  53  55  56  57  58  59  60  61  64  65  70  72  73  74  77  78  79  81\n  82  83  87  88  89  91  92  93  97  98 100 105 106 109 110 111 113 114\n 115 117 118 119 121 123 126 127 128 129 130 131 132 133 134 135 137 139\n 140 141 142 143 145 146 147 148 149 150 151 152 153]\n[  2   6   8  13  16  21  23  24  32  34  36  38  39  43  44  50  52  54\n  62  63  66  67  68  69  71  75  76  80  84  85  86  90  94  95  96  99\n 101 102 103 104 107 108 112 116 120 122 124 125 136 138 144 154]\n[  1   2   6   8   9  11  13  14  15  16  17  19  20  21  22  23  24  25\n  26  29  30  31  32  34  36  37  38  39  40  43  44  48  49  50  51  52\n  53  54  57  58  59  61  62  63  66  67  68  69  71  72  75  76  77  78\n  79  80  81  84  85  86  88  90  91  92  93  94  95  96  98  99 101 102\n 103 104 106 107 108 109 110 111 112 113 114 116 117 120 122 124 125 126\n 127 132 134 136 138 140 141 142 143 144 146 149 153 154]\n[  0   3   4   5   7  10  12  18  27  28  33  35  41  42  45  46  47  55\n  56  60  64  65  70  73  74  82  83  87  89  97 100 105 115 118 119 121\n 123 128 129 130 131 133 135 137 139 145 147 148 150 151 152]\n"
     ]
    }
   ],
   "source": [
    "# Crear el KFold\n",
    "kf = KFold(n_splits=3, shuffle=True, random_state=24)\n",
    "# Calcular los indices de nuestro dataset segun la particion que se realizo\n",
    "for train, test in kf.split(dataset):\n",
    "    print(train)\n",
    "    print(test)"
   ]
  },
  {
   "cell_type": "code",
   "execution_count": null,
   "metadata": {},
   "outputs": [],
   "source": []
  }
 ]
}