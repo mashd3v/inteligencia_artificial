{
 "metadata": {
  "language_info": {
   "codemirror_mode": {
    "name": "ipython",
    "version": 3
   },
   "file_extension": ".py",
   "mimetype": "text/x-python",
   "name": "python",
   "nbconvert_exporter": "python",
   "pygments_lexer": "ipython3",
   "version": "3.7.3-final"
  },
  "orig_nbformat": 2,
  "kernelspec": {
   "name": "python3",
   "display_name": "Python 3.7.3 64-bit (conda)",
   "metadata": {
    "interpreter": {
     "hash": "b59879d5e3f5a8a2f2faee07a70ee8a2e6ae4b34825721b6f60a87942e756af3"
    }
   }
  }
 },
 "nbformat": 4,
 "nbformat_minor": 2,
 "cells": [
  {
   "source": [
    "![](./images/regularizacion1.png)\n",
    "\n",
    "![](./images/regularizacion2.png)\n",
    "\n",
    "![](./images/regularizacion3.png)"
   ],
   "cell_type": "markdown",
   "metadata": {}
  },
  {
   "cell_type": "code",
   "execution_count": 3,
   "metadata": {},
   "outputs": [],
   "source": [
    "# Importar librerias\n",
    "import pandas as pd \n",
    "import sklearn\n",
    "\n",
    "from sklearn.linear_model import LinearRegression\n",
    "from sklearn.linear_model import Lasso\n",
    "from sklearn.linear_model import Ridge\n",
    "\n",
    "from sklearn.model_selection import train_test_split\n",
    "from sklearn.metrics import mean_squared_error"
   ]
  },
  {
   "cell_type": "code",
   "execution_count": 5,
   "metadata": {},
   "outputs": [
    {
     "output_type": "execute_result",
     "data": {
      "text/plain": [
       "       country  rank  score      high       low       gdp    family    lifexp  \\\n",
       "0       Norway     1  7.537  7.594445  7.479556  1.616463  1.533524  0.796667   \n",
       "1      Denmark     2  7.522  7.581728  7.462272  1.482383  1.551122  0.792566   \n",
       "2      Iceland     3  7.504  7.622030  7.385970  1.480633  1.610574  0.833552   \n",
       "3  Switzerland     4  7.494  7.561772  7.426227  1.564980  1.516912  0.858131   \n",
       "4      Finland     5  7.469  7.527542  7.410458  1.443572  1.540247  0.809158   \n",
       "\n",
       "    freedom  generosity  corruption  dystopia  \n",
       "0  0.635423    0.362012    0.315964  2.277027  \n",
       "1  0.626007    0.355280    0.400770  2.313707  \n",
       "2  0.627163    0.475540    0.153527  2.322715  \n",
       "3  0.620071    0.290549    0.367007  2.276716  \n",
       "4  0.617951    0.245483    0.382612  2.430182  "
      ],
      "text/html": "<div>\n<style scoped>\n    .dataframe tbody tr th:only-of-type {\n        vertical-align: middle;\n    }\n\n    .dataframe tbody tr th {\n        vertical-align: top;\n    }\n\n    .dataframe thead th {\n        text-align: right;\n    }\n</style>\n<table border=\"1\" class=\"dataframe\">\n  <thead>\n    <tr style=\"text-align: right;\">\n      <th></th>\n      <th>country</th>\n      <th>rank</th>\n      <th>score</th>\n      <th>high</th>\n      <th>low</th>\n      <th>gdp</th>\n      <th>family</th>\n      <th>lifexp</th>\n      <th>freedom</th>\n      <th>generosity</th>\n      <th>corruption</th>\n      <th>dystopia</th>\n    </tr>\n  </thead>\n  <tbody>\n    <tr>\n      <th>0</th>\n      <td>Norway</td>\n      <td>1</td>\n      <td>7.537</td>\n      <td>7.594445</td>\n      <td>7.479556</td>\n      <td>1.616463</td>\n      <td>1.533524</td>\n      <td>0.796667</td>\n      <td>0.635423</td>\n      <td>0.362012</td>\n      <td>0.315964</td>\n      <td>2.277027</td>\n    </tr>\n    <tr>\n      <th>1</th>\n      <td>Denmark</td>\n      <td>2</td>\n      <td>7.522</td>\n      <td>7.581728</td>\n      <td>7.462272</td>\n      <td>1.482383</td>\n      <td>1.551122</td>\n      <td>0.792566</td>\n      <td>0.626007</td>\n      <td>0.355280</td>\n      <td>0.400770</td>\n      <td>2.313707</td>\n    </tr>\n    <tr>\n      <th>2</th>\n      <td>Iceland</td>\n      <td>3</td>\n      <td>7.504</td>\n      <td>7.622030</td>\n      <td>7.385970</td>\n      <td>1.480633</td>\n      <td>1.610574</td>\n      <td>0.833552</td>\n      <td>0.627163</td>\n      <td>0.475540</td>\n      <td>0.153527</td>\n      <td>2.322715</td>\n    </tr>\n    <tr>\n      <th>3</th>\n      <td>Switzerland</td>\n      <td>4</td>\n      <td>7.494</td>\n      <td>7.561772</td>\n      <td>7.426227</td>\n      <td>1.564980</td>\n      <td>1.516912</td>\n      <td>0.858131</td>\n      <td>0.620071</td>\n      <td>0.290549</td>\n      <td>0.367007</td>\n      <td>2.276716</td>\n    </tr>\n    <tr>\n      <th>4</th>\n      <td>Finland</td>\n      <td>5</td>\n      <td>7.469</td>\n      <td>7.527542</td>\n      <td>7.410458</td>\n      <td>1.443572</td>\n      <td>1.540247</td>\n      <td>0.809158</td>\n      <td>0.617951</td>\n      <td>0.245483</td>\n      <td>0.382612</td>\n      <td>2.430182</td>\n    </tr>\n  </tbody>\n</table>\n</div>"
     },
     "metadata": {},
     "execution_count": 5
    }
   ],
   "source": [
    "# Agregamos el dataset\n",
    "dataset = pd.read_csv('./documents/felicidad.csv')\n",
    "dataset.head()"
   ]
  },
  {
   "cell_type": "code",
   "execution_count": 6,
   "metadata": {},
   "outputs": [
    {
     "output_type": "stream",
     "name": "stdout",
     "text": [
      "(155, 7)\n(155, 1)\n"
     ]
    }
   ],
   "source": [
    "# Dividimos las features y el target de nuestro dataset\n",
    "X = dataset[['gdp', 'family', 'lifexp', 'freedom', 'corruption', 'generosity', 'dystopia']]\n",
    "Y = dataset[['score']]\n",
    "\n",
    "print(X.shape)\n",
    "print(Y.shape)"
   ]
  },
  {
   "cell_type": "code",
   "execution_count": 7,
   "metadata": {},
   "outputs": [],
   "source": [
    "# Dividimos el dataset en datos de entrenamiento y de prueba\n",
    "X_train, X_test, Y_train, Y_test = train_test_split(X, Y, test_size=0.25)"
   ]
  },
  {
   "cell_type": "code",
   "execution_count": 14,
   "metadata": {},
   "outputs": [],
   "source": [
    "# Creamos nuestro modelo regresor lineal\n",
    "modelLinear = LinearRegression().fit(X_train, Y_train)\n",
    "# Prediccion \n",
    "y_predict_linear = modelLinear.predict(X_test)"
   ]
  },
  {
   "cell_type": "code",
   "execution_count": 15,
   "metadata": {},
   "outputs": [],
   "source": [
    "# Creamos nuestro modelo regresor lasso\n",
    "modelLasso = Lasso(alpha=0.02).fit(X_train, Y_train)\n",
    "# Prediccion \n",
    "y_predict_lasso = modelLasso.predict(X_test)"
   ]
  },
  {
   "cell_type": "code",
   "execution_count": 16,
   "metadata": {},
   "outputs": [],
   "source": [
    "# Creamos nuestro modelo regresor ridge\n",
    "modelRidge = Ridge(alpha=1).fit(X_train, Y_train)\n",
    "# Prediccion \n",
    "y_predict_ridge = modelRidge.predict(X_test)"
   ]
  },
  {
   "cell_type": "code",
   "execution_count": 17,
   "metadata": {},
   "outputs": [
    {
     "output_type": "stream",
     "name": "stdout",
     "text": [
      "Perdida lineal:  6.274884576073594e-08\n"
     ]
    }
   ],
   "source": [
    "# Obtener la perdida del modelo lineal\n",
    "linear_loss = mean_squared_error(Y_test, y_predict_linear)\n",
    "print('Perdida lineal: ', linear_loss)"
   ]
  },
  {
   "cell_type": "code",
   "execution_count": 18,
   "metadata": {},
   "outputs": [
    {
     "output_type": "stream",
     "name": "stdout",
     "text": [
      "Perdida lasso:  0.04071778626013754\n"
     ]
    }
   ],
   "source": [
    "# Obtener la perdida del modelo lasso\n",
    "lasso_loss = mean_squared_error(Y_test, y_predict_lasso)\n",
    "print('Perdida lasso: ', lasso_loss)"
   ]
  },
  {
   "cell_type": "code",
   "execution_count": 19,
   "metadata": {},
   "outputs": [
    {
     "output_type": "stream",
     "name": "stdout",
     "text": [
      "Perdida ridge:  0.00533479979288854\n"
     ]
    }
   ],
   "source": [
    "# Obtener la perdida del modelo ridge\n",
    "ridge_loss = mean_squared_error(Y_test, y_predict_ridge)\n",
    "print('Perdida ridge: ', ridge_loss)"
   ]
  },
  {
   "cell_type": "code",
   "execution_count": 20,
   "metadata": {},
   "outputs": [
    {
     "output_type": "stream",
     "name": "stdout",
     "text": [
      "Coeficientes Lasso:  [1.25292847 0.86295476 0.55046176 0.83287726 0.         0.23860983\n 0.89899487]\nCoeficientes Ridge:  [[1.06915443 0.94916303 0.87554229 0.91008067 0.62561819 0.76420966\n  0.96069981]]\n"
     ]
    }
   ],
   "source": [
    "# Mostrar los coeficinetes de los modelos\n",
    "print('Coeficientes Lasso: ', modelLasso.coef_)\n",
    "print('Coeficientes Ridge: ', modelRidge.coef_)"
   ]
  },
  {
   "source": [
    "## Actualizacion: Implementando regularizacion ElasticNet\n",
    "\n",
    "Es común encontrarnos en la literatura con un camino intermedio llamado ElasticNet. Esta técnica consiste en combinar las dos penalizaciones anteriores en una sola función. Así, nuestra ecuación de optimización quedará:\n",
    "\n",
    "![](./images/elasticnet.png)\n",
    "\n",
    "Donde tenemos ahora un parámetro adicional 𝛂 que tiene un rango de valores entre 0 y 1. Si 𝛂 = 0 , ElasticNet se comportará como Ridge, y si 𝛂 = 1 , se comportará como Lasso. Por lo tanto, nos brinda todo el espectro lineal de posibles combinaciones entre estos dos extremos.\n",
    "\n",
    "1. Tenemos una forma de probar ambas L1 y L2 al tiempo sin perder información.\n",
    "2. Supera las limitaciones individuales de ellas.\n",
    "3. Si hace falta experiencia, o el conocimiento matemático de fondo, puede ser la opción preferente para probar la regularización."
   ],
   "cell_type": "markdown",
   "metadata": {}
  },
  {
   "cell_type": "code",
   "execution_count": 4,
   "metadata": {},
   "outputs": [],
   "source": [
    "# Importando librerias necesarias para la implementacion de esta regularizacion\n",
    "\n",
    "from sklearn.linear_model import ElasticNet"
   ]
  },
  {
   "cell_type": "code",
   "execution_count": 8,
   "metadata": {},
   "outputs": [],
   "source": [
    "# Creamos nuestro modelo regresor lasso\n",
    "modelElasticNet = ElasticNet(random_state=0).fit(X_train, Y_train)\n",
    "# Prediccion\n",
    "y_pred_elastic = modelElasticNet.predict(X_test)"
   ]
  },
  {
   "cell_type": "code",
   "execution_count": 9,
   "metadata": {},
   "outputs": [
    {
     "output_type": "stream",
     "name": "stdout",
     "text": [
      "ElasticNet Loss:  1.052633403945417\n"
     ]
    }
   ],
   "source": [
    "# Obtener la perdida del modelo ElasticNet\n",
    "elastic_loss = mean_squared_error(Y_test, y_pred_elastic)\n",
    "print('ElasticNet Loss: ', elastic_loss)"
   ]
  },
  {
   "cell_type": "code",
   "execution_count": 10,
   "metadata": {},
   "outputs": [
    {
     "output_type": "stream",
     "name": "stdout",
     "text": [
      "Coeficientes ElasticNet:  [0. 0. 0. 0. 0. 0. 0.]\n"
     ]
    }
   ],
   "source": [
    "print('Coeficientes ElasticNet: ', modelElasticNet.coef_)"
   ]
  },
  {
   "cell_type": "code",
   "execution_count": null,
   "metadata": {},
   "outputs": [],
   "source": []
  }
 ]
}