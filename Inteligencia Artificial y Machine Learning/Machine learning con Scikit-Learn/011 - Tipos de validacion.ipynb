{
 "metadata": {
  "language_info": {
   "codemirror_mode": {
    "name": "ipython",
    "version": 3
   },
   "file_extension": ".py",
   "mimetype": "text/x-python",
   "name": "python",
   "nbconvert_exporter": "python",
   "pygments_lexer": "ipython3",
   "version": 3
  },
  "orig_nbformat": 2
 },
 "nbformat": 4,
 "nbformat_minor": 2,
 "cells": [
  {
   "source": [
    "# Tipos de validación.\n",
    "\n",
    "- **Hold-On**: Dividir nuestros datos entrenamiento/pruebas, básicamente consiste en usar porcentajes fijos, por lo regular 70% de entrenamiento y 30% de pruebas.\n",
    "- **K-Folds**: Usar validación cursada, aquí vamos a plegar nuestros datos k veces, el k es un parámetro que nosotros definimos y en esos pliegues vamos a utilizar diferentes partes de nuestro dataset como entrenamiento y como test, de tal manera que intentemos cubrir todos los datos de entrenamiento y de test, al finalizar el proceso.\n",
    "- **LOOCV**: Validación cruzada, este es el método más intensivo, ya que haremos una partición entre entrenamiento y pruebas, porque vamos a hacer entrenamiento con todos los datos, salvo 1 y vamos a repetir este proceso tantas veces hasta que todos los datos hayan sido probados.\n",
    "\n",
    "### ¿Cuándo utilizar Hold-on?\n",
    "- Se requiere un prototipado rápido.\n",
    "- No se tiene mucho conocimiento en ML.\n",
    "- No se cuenta con abundante poder de cómputo.\n",
    "\n",
    "![](./images/holdon.png)\n",
    "\n",
    "### ¿Cuándo utilizar K-Folds?\n",
    "- Recomendable en la mayoría de los casos.\n",
    "- Se cuenta con un equipo suficiente para desarrollar ML.\n",
    "- Se require la integración con técnicas de optimización paramétrica.\n",
    "- Se tiene más tiempo para las pruebas."
   ],
   "cell_type": "markdown",
   "metadata": {}
  },
  {
   "cell_type": "code",
   "execution_count": null,
   "metadata": {},
   "outputs": [],
   "source": []
  }
 ]
}