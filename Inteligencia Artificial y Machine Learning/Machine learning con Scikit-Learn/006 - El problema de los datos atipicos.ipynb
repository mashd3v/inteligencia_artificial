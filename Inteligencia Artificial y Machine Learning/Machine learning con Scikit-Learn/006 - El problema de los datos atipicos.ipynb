{
 "metadata": {
  "language_info": {
   "codemirror_mode": {
    "name": "ipython",
    "version": 3
   },
   "file_extension": ".py",
   "mimetype": "text/x-python",
   "name": "python",
   "nbconvert_exporter": "python",
   "pygments_lexer": "ipython3",
   "version": "3.7.3-final"
  },
  "orig_nbformat": 2,
  "kernelspec": {
   "name": "python3",
   "display_name": "Python 3.7.3 64-bit (conda)",
   "metadata": {
    "interpreter": {
     "hash": "b59879d5e3f5a8a2f2faee07a70ee8a2e6ae4b34825721b6f60a87942e756af3"
    }
   }
  }
 },
 "nbformat": 4,
 "nbformat_minor": 2,
 "cells": [
  {
   "source": [
    "# El problema de los valores atípicos\n",
    "\n",
    "Un valor atípico es cualquier medición que se encuentre por fuera del comportamiento general de una muestra de datos.\n",
    "Pueden indicar variabilidad, errores de medición o novedades.\n",
    "\n",
    "## ¿Por qué son problemáticos?\n",
    "1. Pueden generar sesgos importantes en los modelos de ML.\n",
    "2. A veces contienen información relevante sobre la naturaleza de los datos.\n",
    "3. Detección temprana de fallos.\n",
    "\n",
    "## ¿Cómo identificarlos?\n",
    "\n",
    "A través de métodos estadísticos:\n",
    "\n",
    "1. Z - Score: Mide la distancia (en desviaciones estándar) de un punto dado a la media.\n",
    "2. Técnicas de clustering como DBSCAN (Density-Based Spatial Clustering of Applications with Noise).\n",
    "- Consiste en considerar a zonas muy densas como clusters, mientras que los puntos que carecen de ‘vecinos’ no pertenecen a ningún conjunto y por lo tanto se clasifican como ruido (o outliers).\n",
    "- Una ventaja de está técnica es que no se requiere que se especifique el número de clusters (como en K-means, por ejemplo), en cambio se debe especificar un número mínimo de datos que constituye un cluster y un parámetro epsilon que está relacionado con el espacio entre vecinos. En la siguiente imagen pueden ver un ejemplo gráfico de esta técnica: \n",
    "- ![](./images/DBSCAN_search.gif)\n",
    "3. Si q< Q1-1.5IQR ó q > Q3+1.5IQR\n",
    "\n",
    "![](./images/atipicos_boxplots.png)\n",
    "\n"
   ],
   "cell_type": "markdown",
   "metadata": {}
  },
  {
   "source": [
    "# Regresiones robustas\n",
    "\n",
    "Sci-kit learn nos ofrece algunos modelos especificos para abordar el problema de los valores atipicos:\n",
    "\n",
    "- **Ransac**: selecciona una muestra aleatoria de los datos asumiendo que esa muestra se encuentra dentro de los valores inliners, con estos datos se entrena el modelo y se compara su comportamiento con respecto a los otros datos. Este procedimiento se repite tantas veces como se indique y al finalizar el algoritmo escoge la combinación de datos que tenga la mejor cantidad de inliners, donde los valores atípicos puedan ser discriminados de forma efectiva.\n",
    "Ejemplo:\n",
    "\n",
    "![](./images/ransac.png)\n",
    "\n",
    "- **Huber Reggresor**: no elimina los valores atípicos sino que los penaliza. Realiza el entrenamiento y si el error absoluto de la perdida alcanza cierto umbral (epsilon) los datos son tratados como atípicos. El valor por defecto de epsilon es 1.35 ya que se ha demostrado que logra un 95% de eficiencia estadística."
   ],
   "cell_type": "markdown",
   "metadata": {}
  },
  {
   "cell_type": "code",
   "execution_count": null,
   "metadata": {},
   "outputs": [],
   "source": []
  }
 ]
}