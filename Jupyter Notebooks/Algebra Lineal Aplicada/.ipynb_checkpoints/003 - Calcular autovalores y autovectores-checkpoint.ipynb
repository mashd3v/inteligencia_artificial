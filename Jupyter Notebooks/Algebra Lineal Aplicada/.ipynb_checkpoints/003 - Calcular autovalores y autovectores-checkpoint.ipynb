{
 "cells": [
  {
   "cell_type": "code",
   "execution_count": 1,
   "id": "fewer-front",
   "metadata": {},
   "outputs": [],
   "source": [
    "%matplotlib inline\n",
    "\n",
    "import numpy as np\n",
    "import matplotlib.pyplot as plt"
   ]
  },
  {
   "cell_type": "code",
   "execution_count": 2,
   "id": "magnetic-austria",
   "metadata": {},
   "outputs": [
    {
     "name": "stdout",
     "output_type": "stream",
     "text": [
      "[[3 2]\n",
      " [4 1]]\n"
     ]
    }
   ],
   "source": [
    "X = np.array([[3,2], [4,1]])\n",
    "print(X)"
   ]
  },
  {
   "cell_type": "code",
   "execution_count": 3,
   "id": "vocational-olive",
   "metadata": {},
   "outputs": [
    {
     "name": "stdout",
     "output_type": "stream",
     "text": [
      "(array([ 5., -1.]), array([[ 0.70710678, -0.4472136 ],\n",
      "       [ 0.70710678,  0.89442719]]))\n"
     ]
    }
   ],
   "source": [
    "print(np.linalg.eig(X))"
   ]
  },
  {
   "cell_type": "code",
   "execution_count": 4,
   "id": "hybrid-relaxation",
   "metadata": {},
   "outputs": [
    {
     "name": "stdout",
     "output_type": "stream",
     "text": [
      "[ 5. -1.]\n"
     ]
    }
   ],
   "source": [
    "autovalores, autovectores = np.linalg.eig(X)\n",
    "print(autovalores)"
   ]
  },
  {
   "cell_type": "code",
   "execution_count": 5,
   "id": "dynamic-taiwan",
   "metadata": {},
   "outputs": [
    {
     "name": "stdout",
     "output_type": "stream",
     "text": [
      "[0.70710678 0.70710678]\n"
     ]
    }
   ],
   "source": [
    "print(autovectores[:, 0])"
   ]
  },
  {
   "cell_type": "code",
   "execution_count": 6,
   "id": "logical-tournament",
   "metadata": {},
   "outputs": [
    {
     "name": "stdout",
     "output_type": "stream",
     "text": [
      "[-0.4472136   0.89442719]\n"
     ]
    }
   ],
   "source": [
    "print(autovectores[:, 1])"
   ]
  },
  {
   "cell_type": "code",
   "execution_count": 7,
   "id": "mobile-berlin",
   "metadata": {},
   "outputs": [],
   "source": [
    "%run \"..\\\\Funciones auxiliares\\\\Funciones auxiliares.ipynb\""
   ]
  },
  {
   "cell_type": "code",
   "execution_count": 8,
   "id": "marine-pitch",
   "metadata": {},
   "outputs": [],
   "source": [
    "v = np.array([[-1], [2]])\n",
    "Xv = X.dot(v)\n",
    "v_np = autovectores[:, 1]"
   ]
  },
  {
   "cell_type": "code",
   "execution_count": 11,
   "id": "delayed-blind",
   "metadata": {},
   "outputs": [
    {
     "data": {
      "text/plain": [
       "(-7.0, 3.0)"
      ]
     },
     "execution_count": 11,
     "metadata": {},
     "output_type": "execute_result"
    },
    {
     "data": {
      "image/png": "[encoded data removed]",
      "text/plain": [
       "<Figure size 432x288 with 1 Axes>"
      ]
     },
     "metadata": {
      "needs_background": "light"
     },
     "output_type": "display_data"
    }
   ],
   "source": [
    "graficarVectores([Xv.flatten(), v.flatten(), v_np], ['green', 'orange', 'blue'])\n",
    "\n",
    "plt.ylim(-4,2)\n",
    "plt.xlim(-7,3)"
   ]
  },
  {
   "cell_type": "code",
   "execution_count": null,
   "id": "applicable-wales",
   "metadata": {},
   "outputs": [],
   "source": []
  }
 ],
 "metadata": {
  "kernelspec": {
   "display_name": "Python 3",
   "language": "python",
   "name": "python3"
  },
  "language_info": {
   "codemirror_mode": {
    "name": "ipython",
    "version": 3
   },
   "file_extension": ".py",
   "mimetype": "text/x-python",
   "name": "python",
   "nbconvert_exporter": "python",
   "pygments_lexer": "ipython3",
   "version": "3.7.9"
  }
 },
 "nbformat": 4,
 "nbformat_minor": 5
}
