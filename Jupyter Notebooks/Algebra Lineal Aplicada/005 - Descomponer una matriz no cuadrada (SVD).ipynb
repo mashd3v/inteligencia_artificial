{
 "cells": [
  {
   "cell_type": "code",
   "execution_count": 1,
   "id": "circular-environment",
   "metadata": {},
   "outputs": [],
   "source": [
    "%matplotlib inline\n",
    "\n",
    "import numpy as np\n",
    "import matplotlib.pyplot as plt"
   ]
  },
  {
   "cell_type": "code",
   "execution_count": 2,
   "id": "removable-statement",
   "metadata": {},
   "outputs": [
    {
     "name": "stdout",
     "output_type": "stream",
     "text": [
      "[[1 2 3]\n",
      " [3 4 5]]\n"
     ]
    }
   ],
   "source": [
    "A = np.array([[1,2,3], [3,4,5]])\n",
    "print(A)"
   ]
  },
  {
   "cell_type": "code",
   "execution_count": 3,
   "id": "desperate-auditor",
   "metadata": {},
   "outputs": [
    {
     "name": "stdout",
     "output_type": "stream",
     "text": [
      "[[-0.46410668 -0.88577931]\n",
      " [-0.88577931  0.46410668]]\n",
      "[7.97638869 0.61418515]\n",
      "[[7.97638869 0.        ]\n",
      " [0.         0.61418515]]\n",
      "[[-0.39133557 -0.5605708  -0.72980603]\n",
      " [ 0.8247362   0.13817999 -0.54837623]\n",
      " [ 0.40824829 -0.81649658  0.40824829]]\n"
     ]
    }
   ],
   "source": [
    "U, D, V = np.linalg.svd(A)\n",
    "print(U)"
   ]
  },
  {
   "cell_type": "code",
   "execution_count": 4,
   "id": "accomplished-adams",
   "metadata": {},
   "outputs": [
    {
     "name": "stdout",
     "output_type": "stream",
     "text": [
      "[7.97638869 0.61418515]\n"
     ]
    }
   ],
   "source": [
    "print(D)"
   ]
  },
  {
   "cell_type": "code",
   "execution_count": 5,
   "id": "unknown-drunk",
   "metadata": {},
   "outputs": [
    {
     "name": "stdout",
     "output_type": "stream",
     "text": [
      "[[7.97638869 0.        ]\n",
      " [0.         0.61418515]]\n"
     ]
    }
   ],
   "source": [
    "print(np.diag(D))"
   ]
  },
  {
   "cell_type": "code",
   "execution_count": 7,
   "id": "similar-venue",
   "metadata": {},
   "outputs": [
    {
     "name": "stdout",
     "output_type": "stream",
     "text": [
      "[[-0.39133557 -0.5605708  -0.72980603]\n",
      " [ 0.8247362   0.13817999 -0.54837623]\n",
      " [ 0.40824829 -0.81649658  0.40824829]]\n"
     ]
    }
   ],
   "source": [
    "print(V)"
   ]
  },
  {
   "cell_type": "code",
   "execution_count": null,
   "id": "portuguese-windsor",
   "metadata": {},
   "outputs": [],
   "source": []
  }
 ],
 "metadata": {
  "kernelspec": {
   "display_name": "Python 3",
   "language": "python",
   "name": "python3"
  },
  "language_info": {
   "codemirror_mode": {
    "name": "ipython",
    "version": 3
   },
   "file_extension": ".py",
   "mimetype": "text/x-python",
   "name": "python",
   "nbconvert_exporter": "python",
   "pygments_lexer": "ipython3",
   "version": "3.7.9"
  }
 },
 "nbformat": 4,
 "nbformat_minor": 5
}
