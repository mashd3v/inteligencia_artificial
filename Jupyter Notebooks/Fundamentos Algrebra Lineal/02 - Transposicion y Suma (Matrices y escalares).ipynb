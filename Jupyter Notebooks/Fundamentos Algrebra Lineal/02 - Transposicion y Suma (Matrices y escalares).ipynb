{
 "cells": [
  {
   "cell_type": "code",
   "execution_count": 1,
   "id": "professional-vegetable",
   "metadata": {},
   "outputs": [],
   "source": [
    "%matplotlib inline\n",
    "import numpy as np\n",
    "import matplotlib.pyplot as plt"
   ]
  },
  {
   "cell_type": "code",
   "execution_count": 6,
   "id": "breathing-sucking",
   "metadata": {},
   "outputs": [],
   "source": [
    "escalar = 5.678\n",
    "vector = np.array([1,2,3,4])\n",
    "matriz = np.array([[1,2], [4,5], [7,8]])\n",
    "tensor = np.array([\n",
    "                [[1,2,3,4], [4,5,6,7], [7,8,9,10]],\n",
    "                [[10,11,12,13], [13,14,15,16], [16,17,18,19]],\n",
    "                [[19,20,21,22], [22,23,24,25], [25,26,27,28]],\n",
    "                ])"
   ]
  },
  {
   "cell_type": "code",
   "execution_count": 7,
   "id": "fresh-novelty",
   "metadata": {},
   "outputs": [
    {
     "name": "stdout",
     "output_type": "stream",
     "text": [
      "[1 2 3 4]\n"
     ]
    }
   ],
   "source": [
    "vector_t = vector.T\n",
    "print(vector_t)"
   ]
  },
  {
   "cell_type": "code",
   "execution_count": 10,
   "id": "novel-combination",
   "metadata": {},
   "outputs": [
    {
     "name": "stdout",
     "output_type": "stream",
     "text": [
      "[[1 4 7]\n",
      " [2 5 8]]\n",
      "(2, 3)\n"
     ]
    }
   ],
   "source": [
    "matriz_t = matriz.T\n",
    "print(matriz_t)\n",
    "print(matriz_t.shape)"
   ]
  },
  {
   "cell_type": "code",
   "execution_count": 11,
   "id": "exciting-crown",
   "metadata": {},
   "outputs": [
    {
     "name": "stdout",
     "output_type": "stream",
     "text": [
      "[[[ 1 10 19]\n",
      "  [ 4 13 22]\n",
      "  [ 7 16 25]]\n",
      "\n",
      " [[ 2 11 20]\n",
      "  [ 5 14 23]\n",
      "  [ 8 17 26]]\n",
      "\n",
      " [[ 3 12 21]\n",
      "  [ 6 15 24]\n",
      "  [ 9 18 27]]]\n"
     ]
    }
   ],
   "source": [
    "tensor_t = tensor.T\n",
    "print(tensor_t)"
   ]
  },
  {
   "cell_type": "code",
   "execution_count": 2,
   "id": "pediatric-alfred",
   "metadata": {},
   "outputs": [],
   "source": [
    "vector1 = np.array([2,5])\n",
    "vector2 = np.array([3,2])"
   ]
  },
  {
   "cell_type": "code",
   "execution_count": 3,
   "id": "precise-continuity",
   "metadata": {},
   "outputs": [],
   "source": [
    "# Importar funciones de otro notebook \n",
    "%run \"..\\\\Funciones auxiliares\\Graficar vectores.ipynb\""
   ]
  },
  {
   "cell_type": "code",
   "execution_count": 4,
   "id": "floral-briefs",
   "metadata": {},
   "outputs": [
    {
     "data": {
      "text/plain": [
       "(-1.0, 8.0)"
      ]
     },
     "execution_count": 4,
     "metadata": {},
     "output_type": "execute_result"
    },
    {
     "data": {
      "image/png": "[encoded data removed]",
      "text/plain": [
       "<Figure size 432x288 with 1 Axes>"
      ]
     },
     "metadata": {
      "needs_background": "light"
     },
     "output_type": "display_data"
    }
   ],
   "source": [
    "graficarVectores([vector1, vector2], ['orange', 'blue'])\n",
    "plt.xlim(-1,8)\n",
    "plt.ylim(-1,8)"
   ]
  },
  {
   "cell_type": "code",
   "execution_count": 4,
   "id": "varying-tumor",
   "metadata": {},
   "outputs": [
    {
     "name": "stdout",
     "output_type": "stream",
     "text": [
      "5.0\n"
     ]
    }
   ],
   "source": [
    "vector = np.array([-50,-25,0,25,100,-300])\n",
    "print(np.linalg.norm(vector, 0))      "
   ]
  },
  {
   "cell_type": "code",
   "execution_count": 11,
   "id": "limiting-party",
   "metadata": {},
   "outputs": [
    {
     "name": "stdout",
     "output_type": "stream",
     "text": [
      "[[ 1  5  9]\n",
      " [ 2  6 10]\n",
      " [ 3  7 11]\n",
      " [ 4  8 12]]\n"
     ]
    }
   ],
   "source": [
    "matriz = np.array([[1, 2, 3, 4], [5, 6, 7, 8], [9,10, 11,12]])\n",
    "print(matriz.T)"
   ]
  },
  {
   "cell_type": "code",
   "execution_count": 13,
   "id": "sunset-business",
   "metadata": {},
   "outputs": [
    {
     "name": "stdout",
     "output_type": "stream",
     "text": [
      "12\n",
      "12\n"
     ]
    }
   ],
   "source": [
    "a= np.array([3,2])\n",
    "b= np.array([2,3])\n",
    "print(a.dot(b))\n",
    "print(b.dot(a))"
   ]
  },
  {
   "cell_type": "code",
   "execution_count": 15,
   "id": "dramatic-madagascar",
   "metadata": {},
   "outputs": [
    {
     "name": "stdout",
     "output_type": "stream",
     "text": [
      "0\n",
      "0\n",
      "3\n"
     ]
    }
   ],
   "source": [
    "v = np.array([7,-7,3])\n",
    "u = np.array([1,1,0])\n",
    "w = np.array([0,0,1])\n",
    "print(v.dot(u))\n",
    "print(u.dot(w))\n",
    "print(w.dot(v))"
   ]
  },
  {
   "cell_type": "code",
   "execution_count": 2,
   "id": "efficient-chambers",
   "metadata": {},
   "outputs": [
    {
     "name": "stdout",
     "output_type": "stream",
     "text": [
      "[[4 6]\n",
      " [8 9]]\n"
     ]
    }
   ],
   "source": [
    "A = np.array([[1,3], [5,6]])\n",
    "escalar = 3\n",
    "print(A+escalar)"
   ]
  },
  {
   "cell_type": "code",
   "execution_count": 5,
   "id": "recognized-devices",
   "metadata": {},
   "outputs": [
    {
     "name": "stdout",
     "output_type": "stream",
     "text": [
      "119.99999999999997\n"
     ]
    }
   ],
   "source": [
    "matriz = np.array([\n",
    "    [1, 0, 0, 0, 0],\n",
    "    [0, 2, 0, 0, 0],\n",
    "    [0, 0, 3, 0, 0],\n",
    "    [0, 0, 0, 4, 0],\n",
    "    [0, 0, 0, 0, 5]])\n",
    "print(np.linalg.det(matriz))"
   ]
  },
  {
   "cell_type": "code",
   "execution_count": 11,
   "id": "rational-morgan",
   "metadata": {},
   "outputs": [
    {
     "name": "stdout",
     "output_type": "stream",
     "text": [
      "[2 0 4]\n"
     ]
    }
   ],
   "source": [
    "u = np.array([[1,1], [0,0], [2, 2]])\n",
    "v = np.array([1, 1])\n",
    "print(u.dot(v))"
   ]
  },
  {
   "cell_type": "code",
   "execution_count": null,
   "id": "manual-essence",
   "metadata": {},
   "outputs": [],
   "source": []
  }
 ],
 "metadata": {
  "kernelspec": {
   "display_name": "Python 3",
   "language": "python",
   "name": "python3"
  },
  "language_info": {
   "codemirror_mode": {
    "name": "ipython",
    "version": 3
   },
   "file_extension": ".py",
   "mimetype": "text/x-python",
   "name": "python",
   "nbconvert_exporter": "python",
   "pygments_lexer": "ipython3",
   "version": "3.7.9"
  }
 },
 "nbformat": 4,
 "nbformat_minor": 5
}
