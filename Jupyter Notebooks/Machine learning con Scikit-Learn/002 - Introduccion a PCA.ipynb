{
 "metadata": {
  "language_info": {
   "codemirror_mode": {
    "name": "ipython",
    "version": 3
   },
   "file_extension": ".py",
   "mimetype": "text/x-python",
   "name": "python",
   "nbconvert_exporter": "python",
   "pygments_lexer": "ipython3",
   "version": 3
  },
  "orig_nbformat": 2
 },
 "nbformat": 4,
 "nbformat_minor": 2,
 "cells": [
  {
   "source": [
    "# Introducción al algoritmo PCA (Principal Component Analysis)\n",
    "\n",
    "## ¿Por qué usaríamos este algoritmo?\n",
    "\n",
    "- Porque en machine learning es normal encontrarnos con problemas donde tengamos una enorme cantidad de features en donde hay relaciones complejas entre ellos y con la variable que queremos predecir.\n",
    "\n",
    "Pistas donde se puede utilizar un algoritmo PCA:\n",
    "- Nuestro dataset tiene un número alto de features y no todos sean significativos.\n",
    "- Hay una alta correlación entre los features.\n",
    "- Cuando hay overfiting.\n",
    "- Cuando implica un alto coste computacional.\n",
    "\n",
    "## ¿En que consiste el algoritmo PCA?\n",
    "\n",
    "Básicamente en reducir la complejidad del problema:\n",
    "\n",
    "1. Seleccionando solamente las variables relevantes.\n",
    "2. Combinándolas en nuevas variables que mantengan la información más importante (varianza de los features).\n",
    "\n",
    "![](./images/pca.png)\n",
    " \n",
    "## ¿Cuales son pasos para llevar a cabo el algoritmo PCA?\n",
    "1. Calculamos la matriz de covarianza para expresar las relaciones entre nuestro features.\n",
    "2. Hallamos los vectores propios y valores propios de esta matriz, para medir la fuerza y variabilidad de estas relaciones.\n",
    "3. Ordenamos y escogemos los vectores propios con mayor variabilidad, esto es, aportan más información.\n",
    "\n",
    "## ¿Qué hacer si tenemos una PC de bajos recursos?\n",
    "\n",
    "- Si tenemos un dataset demasiado exigente, podemos usar una variación como IPCA.\n",
    "- Si nuestros datos no tienen una estructura separable linealmente, y encontramos un KERNEL que pueda mapearlos podemos usar KPCA."
   ],
   "cell_type": "markdown",
   "metadata": {}
  },
  {
   "cell_type": "code",
   "execution_count": null,
   "metadata": {},
   "outputs": [],
   "source": []
  }
 ]
}