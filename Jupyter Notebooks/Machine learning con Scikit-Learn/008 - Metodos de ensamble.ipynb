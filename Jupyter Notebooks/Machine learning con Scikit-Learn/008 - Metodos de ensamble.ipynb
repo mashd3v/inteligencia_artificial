{
 "metadata": {
  "language_info": {
   "codemirror_mode": {
    "name": "ipython",
    "version": 3
   },
   "file_extension": ".py",
   "mimetype": "text/x-python",
   "name": "python",
   "nbconvert_exporter": "python",
   "pygments_lexer": "ipython3",
   "version": "3.7.3-final"
  },
  "orig_nbformat": 2,
  "kernelspec": {
   "name": "python3",
   "display_name": "Python 3.7.3 64-bit (conda)",
   "metadata": {
    "interpreter": {
     "hash": "b59879d5e3f5a8a2f2faee07a70ee8a2e6ae4b34825721b6f60a87942e756af3"
    }
   }
  }
 },
 "nbformat": 4,
 "nbformat_minor": 2,
 "cells": [
  {
   "source": [
    "# Diferencias entre Bagging y Boosting\n",
    "\n",
    "![](./images/bagging_boosting1.png)\n",
    "\n",
    "![](./images/bagging_boosting2.png)\n",
    "\n",
    "![](./images/bagging_boosting3.png)"
   ],
   "cell_type": "markdown",
   "metadata": {}
  },
  {
   "cell_type": "code",
   "execution_count": 1,
   "metadata": {},
   "outputs": [],
   "source": [
    "# Importando librerias necesarias\n",
    "import pandas as pd \n",
    "\n",
    "from sklearn.neighbors import KNeighborsClassifier\n",
    "from sklearn.ensemble import BaggingClassifier\n",
    "\n",
    "from sklearn.model_selection import train_test_split\n",
    "from sklearn.metrics import accuracy_score"
   ]
  },
  {
   "cell_type": "code",
   "execution_count": 4,
   "metadata": {},
   "outputs": [
    {
     "output_type": "execute_result",
     "data": {
      "text/plain": [
       "count    1025.000000\n",
       "mean        0.513171\n",
       "std         0.500070\n",
       "min         0.000000\n",
       "25%         0.000000\n",
       "50%         1.000000\n",
       "75%         1.000000\n",
       "max         1.000000\n",
       "Name: target, dtype: float64"
      ]
     },
     "metadata": {},
     "execution_count": 4
    }
   ],
   "source": [
    "# Importando nuestro dataset de fallas cardiacas\n",
    "dataset = pd.read_csv('./documents/heart.csv')\n",
    "dataset['target'].describe()"
   ]
  },
  {
   "cell_type": "code",
   "execution_count": 5,
   "metadata": {},
   "outputs": [],
   "source": [
    "# Cargar nuestros features\n",
    "X = dataset.drop(['target'], axis=1)\n",
    "Y = dataset['target']"
   ]
  },
  {
   "cell_type": "code",
   "execution_count": 6,
   "metadata": {},
   "outputs": [],
   "source": [
    "# Creando nuestros datos de entrenamiento y de prueba\n",
    "X_train, X_test, Y_train, Y_test = train_test_split(X, Y, test_size=0.35, random_state=24)"
   ]
  },
  {
   "cell_type": "code",
   "execution_count": 10,
   "metadata": {},
   "outputs": [
    {
     "output_type": "stream",
     "name": "stdout",
     "text": [
      "0.6935933147632312\n"
     ]
    }
   ],
   "source": [
    "# Creamos nuestro modelo KNeighbors\n",
    "knn_classifier = KNeighborsClassifier().fit(X_train, Y_train)\n",
    "# Prediccion \n",
    "knn_pred = knn_classifier.predict(X_test)\n",
    "# Mostrar nuestra prediccion\n",
    "print(accuracy_score(knn_pred, Y_test))"
   ]
  },
  {
   "cell_type": "code",
   "execution_count": 11,
   "metadata": {},
   "outputs": [
    {
     "output_type": "stream",
     "name": "stdout",
     "text": [
      "0.7270194986072424\n"
     ]
    }
   ],
   "source": [
    "# Creamos nuestro modelo Bagging\n",
    "bag_class = BaggingClassifier(base_estimator=KNeighborsClassifier(), n_estimators=50).fit(X_train, Y_train)\n",
    "# Prediccion\n",
    "bag_pred = bag_class.predict(X_test)\n",
    "# Mostrar nuestra prediccion\n",
    "print(accuracy_score(bag_pred, Y_test))"
   ]
  },
  {
   "cell_type": "code",
   "execution_count": 12,
   "metadata": {},
   "outputs": [],
   "source": [
    "# Importando librerias para implementacion de Boosting\n",
    "from sklearn.ensemble import GradientBoostingClassifier"
   ]
  },
  {
   "cell_type": "code",
   "execution_count": 13,
   "metadata": {},
   "outputs": [
    {
     "output_type": "stream",
     "name": "stdout",
     "text": [
      "0.9331476323119777\n"
     ]
    }
   ],
   "source": [
    "# Definimos nuestro clasificador <-- Utiliza arboles de desicion\n",
    "boost = GradientBoostingClassifier(n_estimators=50).fit(X_train, Y_train)\n",
    "# Prediccion\n",
    "boost_pred = boost.predict(X_test)\n",
    "# Mostrar nuestra prediccion\n",
    "print(accuracy_score(boost_pred, Y_test))"
   ]
  },
  {
   "cell_type": "code",
   "execution_count": null,
   "metadata": {},
   "outputs": [],
   "source": []
  }
 ]
}