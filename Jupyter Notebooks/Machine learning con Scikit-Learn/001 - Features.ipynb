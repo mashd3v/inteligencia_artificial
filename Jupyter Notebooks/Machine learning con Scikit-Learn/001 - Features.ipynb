{
 "metadata": {
  "language_info": {
   "codemirror_mode": {
    "name": "ipython",
    "version": 3
   },
   "file_extension": ".py",
   "mimetype": "text/x-python",
   "name": "python",
   "nbconvert_exporter": "python",
   "pygments_lexer": "ipython3",
   "version": 3
  },
  "orig_nbformat": 2
 },
 "nbformat": 4,
 "nbformat_minor": 2,
 "cells": [
  {
   "source": [
    "# ¿Cómo afectan nuestros features a los modelos de Machine Learning?\n",
    "\n",
    "## ¿Qué son los features? \n",
    "- Son los atributos de nuestro modelo que usamos para realizar una interferencia o predicción. Son las variables de entrada.\n",
    "\n",
    "## Más features simpre es mejor, ¿verdad?\n",
    "La respuesta corta es: **NO**\n",
    "En realidad si tenemos variables que son irrelevantes pasarán estas cosas:\n",
    "- Se le abrirá el paso al ruido.\n",
    "- Aumentará el costo computacional.\n",
    "- Si introducimos demasiados features y estos tienen valores faltantes, se harán sesgos muy significativos y vamos a perder esa capacidad de predicción.\n",
    "\n",
    "Nota: Hacer una buena selección de nuestro features, hará que nuestros algoritmos corran de una manera mas eficiente._\n",
    "\n",
    "## Una de las formas de saber que nuestros features han sido bien seleccionados es con el sesgo y la varianza.\n",
    "\n",
    "Una mala selección de nuestro features nos puede llevar a alguno de esos dos escenarios indeseados.\n",
    "\n",
    "![](./images/sesgo_varianza.png)\n",
    "\n",
    "## Algo que debemos que recordar es que nuestro modelo de ML puede caer en uno de 2 escenarios que debemos evitar:\n",
    "\n",
    "- Uno es el Underfitting: Significa que nuestro modelo es demasiado simple, en donde nuestro modelo no está captando los features y nuestra variable de salida, por lo cual debemos de investigar variables con mas significado o combinaciones o transformaciones para poder llegar a nuestra variable de salida.\n",
    "- Por otro lado está el Overfitting: Significa que nuestro modelo es demasiado complejo y nuestro algoritmo va a intentar ajustarse a los datos que tenemos, pero no se va a comportar bien con los datos del mundo real. Si tenemos overfiting lo mejor es intentar seleccionar los features de una manera mas critica descartando aquellos que no aporten información o combinando algunos quedándonos con la información que verdaderamente importa.\n",
    "\n",
    "![](./images/recordatorio.png)\n",
    "\n",
    "## ¿Qué podemos hacer para solucionar estos problemas?\n",
    "- Aplicar técnicas reducción de la dimensionalidad. Utilizaremos el algoritmo de PCA.\n",
    "- Aplicar la técnica de la regulación, que consiste en penalizar aquellos features que no le estén aportando o que le estén restando información a nuestro modelo.\n",
    "- Balanceo: Se utilizará Oversampling y Undersampling en problemas de rendimiento donde tengamos un conjunto de datos que está desbalanceado, por ejemplo en un problema de clasificación donde tenemos muchos ejemplos de una categoría y muy pocos de otra."
   ],
   "cell_type": "markdown",
   "metadata": {}
  },
  {
   "cell_type": "code",
   "execution_count": null,
   "metadata": {},
   "outputs": [],
   "source": []
  }
 ]
}